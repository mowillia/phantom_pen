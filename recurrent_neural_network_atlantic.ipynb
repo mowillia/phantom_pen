{
  "nbformat": 4,
  "nbformat_minor": 0,
  "metadata": {
    "kernelspec": {
      "name": "python3",
      "display_name": "Python 3"
    },
    "language_info": {
      "codemirror_mode": {
        "name": "ipython",
        "version": 3
      },
      "file_extension": ".py",
      "mimetype": "text/x-python",
      "name": "python",
      "nbconvert_exporter": "python",
      "pygments_lexer": "ipython3",
      "version": "3.6.2"
    },
    "colab": {
      "name": "recurrent_neural_network_atlantic.ipynb",
      "version": "0.3.2",
      "provenance": [],
      "collapsed_sections": [],
      "include_colab_link": true
    },
    "accelerator": "GPU"
  },
  "cells": [
    {
      "cell_type": "markdown",
      "metadata": {
        "id": "view-in-github",
        "colab_type": "text"
      },
      "source": [
        "<a href=\"https://colab.research.google.com/github/mowillia/phantom_pen/blob/master/recurrent_neural_network_atlantic.ipynb\" target=\"_parent\"><img src=\"https://colab.research.google.com/assets/colab-badge.svg\" alt=\"Open In Colab\"/></a>"
      ]
    },
    {
      "cell_type": "code",
      "metadata": {
        "id": "DHuGX14xIHZz",
        "colab_type": "code",
        "colab": {}
      },
      "source": [
        "## Based on Albert Lai's Github: https://github.com/albertlai431\n",
        "## and his discussion on \"writing like shakespeare\": \n",
        "## https://towardsdatascience.com/writing-like-shakespeare-with-machine-learning-in-pytorch-d77f851d910c\n",
        "\n",
        "# Importing libraries\n",
        "import numpy as np\n",
        "import torch\n",
        "from torch import nn\n",
        "import torch.nn.functional as F\n",
        "import torchvision.transforms as T\n",
        "from torch.autograd import Variable"
      ],
      "execution_count": 0,
      "outputs": []
    },
    {
      "cell_type": "code",
      "metadata": {
        "id": "pNRCNyXmIHZ4",
        "colab_type": "code",
        "colab": {
          "base_uri": "https://localhost:8080/",
          "height": 35
        },
        "outputId": "2428cc6b-efde-4cc4-9ffa-575115dbe229"
      },
      "source": [
        "# Open atlantic text file and read in data as `text`\n",
        "with open('/content/all_education.txt', 'r') as f:\n",
        "    text = f.read()\n",
        "\n",
        "# Showing the first 100 characters\n",
        "text[:100]"
      ],
      "execution_count": 4,
      "outputs": [
        {
          "output_type": "execute_result",
          "data": {
            "text/plain": [
              "'On Monday, another admissions scandal injected a new dose of disillusionment into the already disill'"
            ]
          },
          "metadata": {
            "tags": []
          },
          "execution_count": 4
        }
      ]
    },
    {
      "cell_type": "code",
      "metadata": {
        "id": "rRIzT6DvIHZ-",
        "colab_type": "code",
        "colab": {
          "base_uri": "https://localhost:8080/",
          "height": 155
        },
        "outputId": "400f55dc-0470-4c9c-f035-cb8665345e93"
      },
      "source": [
        "# encoding the text and map each character to an integer and vice versa\n",
        "\n",
        "# We create two dictionaries:\n",
        "# 1. int2char, which maps integers to characters\n",
        "# 2. char2int, which maps characters to integers\n",
        "chars = tuple(set(text))\n",
        "int2char = dict(enumerate(chars))\n",
        "char2int = {ch: ii for ii, ch in int2char.items()}\n",
        "\n",
        "# Encode the text\n",
        "encoded = np.array([char2int[ch] for ch in text])\n",
        "\n",
        "# Showing the first 100 encoded characters\n",
        "encoded[:100]"
      ],
      "execution_count": 5,
      "outputs": [
        {
          "output_type": "execute_result",
          "data": {
            "text/plain": [
              "array([ 96,  66,  10,  78,   2,  66,  45,  26,  27,  32,  10,  26,  66,\n",
              "         2,  25,  60,  47,  34,  10,  26,  45,  75, 102,  88,  88, 102,\n",
              "         2,  66,  88,  10,  88,  81,  26,  66,  45,  26, 101,  10, 102,\n",
              "        66,  14,  47,  81,  25,  47,  45,  10,  26,  10,  66,  47,  24,\n",
              "        10,  45,   2,  88,  47,  10,   2,  44,  10,  45, 102,  88, 102,\n",
              "       101, 101, 103,  88, 102,   2,  66,  75,  47,  66,  25,  10, 102,\n",
              "        66,  25,   2,  10,  25,  60,  47,  10,  26, 101,  34,  47,  26,\n",
              "        45,  27,  10,  45, 102,  88, 102, 101, 101])"
            ]
          },
          "metadata": {
            "tags": []
          },
          "execution_count": 5
        }
      ]
    },
    {
      "cell_type": "code",
      "metadata": {
        "id": "H2QqtB80IHaE",
        "colab_type": "code",
        "colab": {}
      },
      "source": [
        "# Defining method to encode one hot labels\n",
        "def one_hot_encode(arr, n_labels):\n",
        "    \n",
        "    # Initialize the the encoded array\n",
        "    one_hot = np.zeros((np.multiply(*arr.shape), n_labels), dtype=np.float32)\n",
        "    \n",
        "    # Fill the appropriate elements with ones\n",
        "    one_hot[np.arange(one_hot.shape[0]), arr.flatten()] = 1.\n",
        "    \n",
        "    # Finally reshape it to get back to the original array\n",
        "    one_hot = one_hot.reshape((*arr.shape, n_labels))\n",
        "    \n",
        "    return one_hot\n",
        "    \n",
        "# Defining method to make mini-batches for training\n",
        "def get_batches(arr, batch_size, seq_length):\n",
        "    '''Create a generator that returns batches of size\n",
        "       batch_size x seq_length from arr.\n",
        "       \n",
        "       Arguments\n",
        "       ---------\n",
        "       arr: Array you want to make batches from\n",
        "       batch_size: Batch size, the number of sequences per batch\n",
        "       seq_length: Number of encoded chars in a sequence\n",
        "    '''\n",
        "    \n",
        "    batch_size_total = batch_size * seq_length\n",
        "    # total number of batches we can make\n",
        "    n_batches = len(arr)//batch_size_total\n",
        "    \n",
        "    # Keep only enough characters to make full batches\n",
        "    arr = arr[:n_batches * batch_size_total]\n",
        "    # Reshape into batch_size rows\n",
        "    arr = arr.reshape((batch_size, -1))\n",
        "    \n",
        "    # iterate through the array, one sequence at a time\n",
        "    for n in range(0, arr.shape[1], seq_length):\n",
        "        # The features\n",
        "        x = arr[:, n:n+seq_length]\n",
        "        # The targets, shifted by one\n",
        "        y = np.zeros_like(x)\n",
        "        try:\n",
        "            y[:, :-1], y[:, -1] = x[:, 1:], arr[:, n+seq_length]\n",
        "        except IndexError:\n",
        "            y[:, :-1], y[:, -1] = x[:, 1:], arr[:, 0]\n",
        "        yield x, y"
      ],
      "execution_count": 0,
      "outputs": []
    },
    {
      "cell_type": "code",
      "metadata": {
        "id": "apkIUKheIHaG",
        "colab_type": "code",
        "colab": {
          "base_uri": "https://localhost:8080/",
          "height": 35
        },
        "outputId": "a9693365-7e0f-435e-98d9-f36eba9f10ce"
      },
      "source": [
        "# Check if GPU is available\n",
        "train_on_gpu = torch.cuda.is_available()\n",
        "if(train_on_gpu):\n",
        "    print('Training on GPU!')\n",
        "else: \n",
        "    print('No GPU available, training on CPU; consider making n_epochs very small.')"
      ],
      "execution_count": 7,
      "outputs": [
        {
          "output_type": "stream",
          "text": [
            "Training on GPU!\n"
          ],
          "name": "stdout"
        }
      ]
    },
    {
      "cell_type": "code",
      "metadata": {
        "id": "p4lmBBWhIHaK",
        "colab_type": "code",
        "colab": {}
      },
      "source": [
        "# Declaring the model\n",
        "class CharRNN(nn.Module):\n",
        "    \n",
        "    def __init__(self, tokens, n_hidden=256, n_layers=2,\n",
        "                               drop_prob=0.5, lr=0.001):\n",
        "        super().__init__()\n",
        "        self.drop_prob = drop_prob\n",
        "        self.n_layers = n_layers\n",
        "        self.n_hidden = n_hidden\n",
        "        self.lr = lr\n",
        "        \n",
        "        # creating character dictionaries\n",
        "        self.chars = tokens\n",
        "        self.int2char = dict(enumerate(self.chars))\n",
        "        self.char2int = {ch: ii for ii, ch in self.int2char.items()}\n",
        "        \n",
        "        #define the LSTM\n",
        "        self.lstm = nn.LSTM(len(self.chars), n_hidden, n_layers, \n",
        "                            dropout=drop_prob, batch_first=True)\n",
        "        \n",
        "        #define a dropout layer\n",
        "        self.dropout = nn.Dropout(drop_prob)\n",
        "        \n",
        "        #define the final, fully-connected output layer\n",
        "        self.fc = nn.Linear(n_hidden, len(self.chars))\n",
        "      \n",
        "    \n",
        "    def forward(self, x, hidden):\n",
        "        ''' Forward pass through the network. \n",
        "            These inputs are x, and the hidden/cell state `hidden`. '''\n",
        "                \n",
        "        #get the outputs and the new hidden state from the lstm\n",
        "        r_output, hidden = self.lstm(x, hidden)\n",
        "        \n",
        "        #pass through a dropout layer\n",
        "        out = self.dropout(r_output)\n",
        "        \n",
        "        # Stack up LSTM outputs using view\n",
        "        out = out.contiguous().view(-1, self.n_hidden)\n",
        "        \n",
        "        #put x through the fully-connected layer\n",
        "        out = self.fc(out)\n",
        "        \n",
        "        # return the final output and the hidden state\n",
        "        return out, hidden\n",
        "    \n",
        "    \n",
        "    def init_hidden(self, batch_size):\n",
        "        ''' Initializes hidden state '''\n",
        "        # Create two new tensors with sizes n_layers x batch_size x n_hidden,\n",
        "        # initialized to zero, for hidden state and cell state of LSTM\n",
        "        weight = next(self.parameters()).data\n",
        "        \n",
        "        if (train_on_gpu):\n",
        "            hidden = (weight.new(self.n_layers, batch_size, self.n_hidden).zero_().cuda(),\n",
        "                  weight.new(self.n_layers, batch_size, self.n_hidden).zero_().cuda())\n",
        "        else:\n",
        "            hidden = (weight.new(self.n_layers, batch_size, self.n_hidden).zero_(),\n",
        "                      weight.new(self.n_layers, batch_size, self.n_hidden).zero_())\n",
        "        \n",
        "        return hidden"
      ],
      "execution_count": 0,
      "outputs": []
    },
    {
      "cell_type": "code",
      "metadata": {
        "id": "x4GHIMMlIHaN",
        "colab_type": "code",
        "colab": {}
      },
      "source": [
        "# Declaring the train method\n",
        "def train(net, data, epochs=10, batch_size=10, seq_length=50, lr=0.001, clip=5, val_frac=0.1, print_every=10):\n",
        "    ''' Training a network \n",
        "    \n",
        "        Arguments\n",
        "        ---------\n",
        "        \n",
        "        net: CharRNN network\n",
        "        data: text data to train the network\n",
        "        epochs: Number of epochs to train\n",
        "        batch_size: Number of mini-sequences per mini-batch, aka batch size\n",
        "        seq_length: Number of character steps per mini-batch\n",
        "        lr: learning rate\n",
        "        clip: gradient clipping\n",
        "        val_frac: Fraction of data to hold out for validation\n",
        "        print_every: Number of steps for printing training and validation loss\n",
        "    \n",
        "    '''\n",
        "    net.train()\n",
        "    \n",
        "    opt = torch.optim.Adam(net.parameters(), lr=lr)\n",
        "    criterion = nn.CrossEntropyLoss()\n",
        "    \n",
        "    # create training and validation data\n",
        "    val_idx = int(len(data)*(1-val_frac))\n",
        "    data, val_data = data[:val_idx], data[val_idx:]\n",
        "    \n",
        "    if(train_on_gpu):\n",
        "        net.cuda()\n",
        "    \n",
        "    counter = 0\n",
        "    n_chars = len(net.chars)\n",
        "    for e in range(epochs):\n",
        "        # initialize hidden state\n",
        "        h = net.init_hidden(batch_size)\n",
        "        \n",
        "        for x, y in get_batches(data, batch_size, seq_length):\n",
        "            counter += 1\n",
        "            \n",
        "            # One-hot encode our data and make them Torch tensors\n",
        "            x = one_hot_encode(x, n_chars)\n",
        "            inputs, targets = torch.from_numpy(x), torch.from_numpy(y)\n",
        "            \n",
        "            if(train_on_gpu):\n",
        "                inputs, targets = inputs.cuda(), targets.cuda()\n",
        "\n",
        "            # Creating new variables for the hidden state, otherwise\n",
        "            # we'd backprop through the entire training history\n",
        "            h = tuple([each.data for each in h])\n",
        "\n",
        "            # zero accumulated gradients\n",
        "            net.zero_grad()\n",
        "            \n",
        "            # get the output from the model\n",
        "            output, h = net(inputs, h)\n",
        "            \n",
        "            # calculate the loss and perform backprop\n",
        "            loss = criterion(output, targets.view(batch_size*seq_length).long())\n",
        "            loss.backward()\n",
        "            # `clip_grad_norm` helps prevent the exploding gradient problem in RNNs / LSTMs.\n",
        "            nn.utils.clip_grad_norm_(net.parameters(), clip)\n",
        "            opt.step()\n",
        "            \n",
        "            # loss stats\n",
        "            if counter % print_every == 0:\n",
        "                # Get validation loss\n",
        "                val_h = net.init_hidden(batch_size)\n",
        "                val_losses = []\n",
        "                net.eval()\n",
        "                for x, y in get_batches(val_data, batch_size, seq_length):\n",
        "                    # One-hot encode our data and make them Torch tensors\n",
        "                    x = one_hot_encode(x, n_chars)\n",
        "                    x, y = torch.from_numpy(x), torch.from_numpy(y)\n",
        "                    \n",
        "                    # Creating new variables for the hidden state, otherwise\n",
        "                    # we'd backprop through the entire training history\n",
        "                    val_h = tuple([each.data for each in val_h])\n",
        "                    \n",
        "                    inputs, targets = x, y\n",
        "                    if(train_on_gpu):\n",
        "                        inputs, targets = inputs.cuda(), targets.cuda()\n",
        "\n",
        "                    output, val_h = net(inputs, val_h)\n",
        "                    val_loss = criterion(output, targets.view(batch_size*seq_length).long())\n",
        "                \n",
        "                    val_losses.append(val_loss.item())\n",
        "                \n",
        "                net.train() # reset to train mode after iterationg through validation data\n",
        "                \n",
        "                print(\"Epoch: {}/{}...\".format(e+1, epochs),\n",
        "                      \"Step: {}...\".format(counter),\n",
        "                      \"Loss: {:.4f}...\".format(loss.item()),\n",
        "                      \"Val Loss: {:.4f}\".format(np.mean(val_losses)))\n",
        "                      "
      ],
      "execution_count": 0,
      "outputs": []
    },
    {
      "cell_type": "code",
      "metadata": {
        "id": "MBSq7Ha5IHaQ",
        "colab_type": "code",
        "colab": {
          "base_uri": "https://localhost:8080/",
          "height": 1000
        },
        "outputId": "f3d919e5-87aa-4565-df26-b5d03be00e64"
      },
      "source": [
        "# Define and print the net\n",
        "n_hidden=512\n",
        "n_layers=2\n",
        "\n",
        "net = CharRNN(chars, n_hidden, n_layers)\n",
        "print(net)\n",
        "\n",
        "# Declaring the hyperparameters\n",
        "batch_size = 128\n",
        "seq_length = 100\n",
        "n_epochs = 20 # start smaller if you are just testing initial behavior\n",
        "\n",
        "# train the model\n",
        "train(net, encoded, epochs=n_epochs, batch_size=batch_size, seq_length=seq_length, lr=0.001, print_every=50)"
      ],
      "execution_count": 11,
      "outputs": [
        {
          "output_type": "stream",
          "text": [
            "CharRNN(\n",
            "  (lstm): LSTM(106, 512, num_layers=2, batch_first=True, dropout=0.5)\n",
            "  (dropout): Dropout(p=0.5)\n",
            "  (fc): Linear(in_features=512, out_features=106, bias=True)\n",
            ")\n",
            "Epoch: 1/20... Step: 50... Loss: 3.1490... Val Loss: 3.1104\n",
            "Epoch: 1/20... Step: 100... Loss: 3.0782... Val Loss: 3.0842\n",
            "Epoch: 1/20... Step: 150... Loss: 2.8320... Val Loss: 2.8124\n",
            "Epoch: 2/20... Step: 200... Loss: 2.5489... Val Loss: 2.5063\n",
            "Epoch: 2/20... Step: 250... Loss: 2.3817... Val Loss: 2.3547\n",
            "Epoch: 2/20... Step: 300... Loss: 2.2981... Val Loss: 2.2330\n",
            "Epoch: 3/20... Step: 350... Loss: 2.1814... Val Loss: 2.1450\n",
            "Epoch: 3/20... Step: 400... Loss: 2.1496... Val Loss: 2.0680\n",
            "Epoch: 3/20... Step: 450... Loss: 2.0718... Val Loss: 1.9999\n",
            "Epoch: 4/20... Step: 500... Loss: 2.0084... Val Loss: 1.9382\n",
            "Epoch: 4/20... Step: 550... Loss: 1.9516... Val Loss: 1.8861\n",
            "Epoch: 4/20... Step: 600... Loss: 1.9405... Val Loss: 1.8332\n",
            "Epoch: 5/20... Step: 650... Loss: 1.8814... Val Loss: 1.7916\n",
            "Epoch: 5/20... Step: 700... Loss: 1.8198... Val Loss: 1.7468\n",
            "Epoch: 5/20... Step: 750... Loss: 1.7887... Val Loss: 1.7121\n",
            "Epoch: 5/20... Step: 800... Loss: 1.8164... Val Loss: 1.6775\n",
            "Epoch: 6/20... Step: 850... Loss: 1.7503... Val Loss: 1.6490\n",
            "Epoch: 6/20... Step: 900... Loss: 1.7218... Val Loss: 1.6208\n",
            "Epoch: 6/20... Step: 950... Loss: 1.6834... Val Loss: 1.5955\n",
            "Epoch: 7/20... Step: 1000... Loss: 1.6707... Val Loss: 1.5707\n",
            "Epoch: 7/20... Step: 1050... Loss: 1.6391... Val Loss: 1.5505\n",
            "Epoch: 7/20... Step: 1100... Loss: 1.6195... Val Loss: 1.5303\n",
            "Epoch: 8/20... Step: 1150... Loss: 1.5895... Val Loss: 1.5096\n",
            "Epoch: 8/20... Step: 1200... Loss: 1.5847... Val Loss: 1.4963\n",
            "Epoch: 8/20... Step: 1250... Loss: 1.5631... Val Loss: 1.4826\n",
            "Epoch: 9/20... Step: 1300... Loss: 1.5288... Val Loss: 1.4640\n",
            "Epoch: 9/20... Step: 1350... Loss: 1.5036... Val Loss: 1.4515\n",
            "Epoch: 9/20... Step: 1400... Loss: 1.5391... Val Loss: 1.4398\n",
            "Epoch: 10/20... Step: 1450... Loss: 1.5253... Val Loss: 1.4237\n",
            "Epoch: 10/20... Step: 1500... Loss: 1.4839... Val Loss: 1.4186\n",
            "Epoch: 10/20... Step: 1550... Loss: 1.4760... Val Loss: 1.4052\n",
            "Epoch: 10/20... Step: 1600... Loss: 1.5252... Val Loss: 1.3928\n",
            "Epoch: 11/20... Step: 1650... Loss: 1.4767... Val Loss: 1.3849\n",
            "Epoch: 11/20... Step: 1700... Loss: 1.4490... Val Loss: 1.3770\n",
            "Epoch: 11/20... Step: 1750... Loss: 1.4401... Val Loss: 1.3680\n",
            "Epoch: 12/20... Step: 1800... Loss: 1.4313... Val Loss: 1.3586\n",
            "Epoch: 12/20... Step: 1850... Loss: 1.4282... Val Loss: 1.3523\n",
            "Epoch: 12/20... Step: 1900... Loss: 1.4111... Val Loss: 1.3458\n",
            "Epoch: 13/20... Step: 1950... Loss: 1.3970... Val Loss: 1.3362\n",
            "Epoch: 13/20... Step: 2000... Loss: 1.3986... Val Loss: 1.3318\n",
            "Epoch: 13/20... Step: 2050... Loss: 1.3866... Val Loss: 1.3246\n",
            "Epoch: 14/20... Step: 2100... Loss: 1.3703... Val Loss: 1.3165\n",
            "Epoch: 14/20... Step: 2150... Loss: 1.3370... Val Loss: 1.3145\n",
            "Epoch: 14/20... Step: 2200... Loss: 1.3845... Val Loss: 1.3070\n",
            "Epoch: 15/20... Step: 2250... Loss: 1.3829... Val Loss: 1.3004\n",
            "Epoch: 15/20... Step: 2300... Loss: 1.3502... Val Loss: 1.2966\n",
            "Epoch: 15/20... Step: 2350... Loss: 1.3451... Val Loss: 1.2947\n",
            "Epoch: 15/20... Step: 2400... Loss: 1.4024... Val Loss: 1.2847\n",
            "Epoch: 16/20... Step: 2450... Loss: 1.3586... Val Loss: 1.2831\n",
            "Epoch: 16/20... Step: 2500... Loss: 1.3402... Val Loss: 1.2795\n",
            "Epoch: 16/20... Step: 2550... Loss: 1.3297... Val Loss: 1.2725\n",
            "Epoch: 17/20... Step: 2600... Loss: 1.3155... Val Loss: 1.2675\n",
            "Epoch: 17/20... Step: 2650... Loss: 1.3121... Val Loss: 1.2643\n",
            "Epoch: 17/20... Step: 2700... Loss: 1.3145... Val Loss: 1.2605\n",
            "Epoch: 18/20... Step: 2750... Loss: 1.3023... Val Loss: 1.2565\n",
            "Epoch: 18/20... Step: 2800... Loss: 1.3170... Val Loss: 1.2545\n",
            "Epoch: 18/20... Step: 2850... Loss: 1.2925... Val Loss: 1.2505\n",
            "Epoch: 19/20... Step: 2900... Loss: 1.2859... Val Loss: 1.2446\n",
            "Epoch: 19/20... Step: 2950... Loss: 1.2623... Val Loss: 1.2440\n",
            "Epoch: 19/20... Step: 3000... Loss: 1.2916... Val Loss: 1.2379\n",
            "Epoch: 20/20... Step: 3050... Loss: 1.2921... Val Loss: 1.2344\n",
            "Epoch: 20/20... Step: 3100... Loss: 1.2719... Val Loss: 1.2335\n",
            "Epoch: 20/20... Step: 3150... Loss: 1.2591... Val Loss: 1.2310\n",
            "Epoch: 20/20... Step: 3200... Loss: 1.3320... Val Loss: 1.2277\n"
          ],
          "name": "stdout"
        }
      ]
    },
    {
      "cell_type": "code",
      "metadata": {
        "id": "9ssdboFBIHaV",
        "colab_type": "code",
        "colab": {}
      },
      "source": [
        "# Saving the model\n",
        "model_name = 'rnn_20_epoch.net'\n",
        "\n",
        "checkpoint = {'n_hidden': net.n_hidden,\n",
        "              'n_layers': net.n_layers,\n",
        "              'state_dict': net.state_dict(),\n",
        "              'tokens': net.chars}\n",
        "\n",
        "with open(model_name, 'wb') as f:\n",
        "    torch.save(checkpoint, f)\n",
        "    "
      ],
      "execution_count": 0,
      "outputs": []
    },
    {
      "cell_type": "code",
      "metadata": {
        "id": "JN93QjdyIHaY",
        "colab_type": "code",
        "colab": {}
      },
      "source": [
        "# Defining a method to generate the next character\n",
        "def predict(net, char, h=None, top_k=None):\n",
        "        ''' Given a character, predict the next character.\n",
        "            Returns the predicted character and the hidden state.\n",
        "        '''\n",
        "        \n",
        "        # tensor inputs\n",
        "        x = np.array([[net.char2int[char]]])\n",
        "        x = one_hot_encode(x, len(net.chars))\n",
        "        inputs = torch.from_numpy(x)\n",
        "        \n",
        "        if(train_on_gpu):\n",
        "            inputs = inputs.cuda()\n",
        "        \n",
        "        # detach hidden state from history\n",
        "        h = tuple([each.data for each in h])\n",
        "        # get the output of the model\n",
        "        out, h = net(inputs, h)\n",
        "\n",
        "        # get the character probabilities\n",
        "        p = F.softmax(out, dim=1).data\n",
        "        if(train_on_gpu):\n",
        "            p = p.cpu() # move to cpu\n",
        "        \n",
        "        # get top characters\n",
        "        if top_k is None:\n",
        "            top_ch = np.arange(len(net.chars))\n",
        "        else:\n",
        "            p, top_ch = p.topk(top_k)\n",
        "            top_ch = top_ch.numpy().squeeze()\n",
        "        \n",
        "        # select the likely next character with some element of randomness\n",
        "        p = p.numpy().squeeze()\n",
        "        char = np.random.choice(top_ch, p=p/p.sum())\n",
        "        \n",
        "        # return the encoded value of the predicted char and the hidden state\n",
        "        return net.int2char[char], h\n",
        "        "
      ],
      "execution_count": 0,
      "outputs": []
    },
    {
      "cell_type": "code",
      "metadata": {
        "id": "ERXrS2U8IHab",
        "colab_type": "code",
        "colab": {}
      },
      "source": [
        "# Declaring a method to generate new text\n",
        "def sample(net, size, prime='The', top_k=None):\n",
        "        \n",
        "    if(train_on_gpu):\n",
        "        net.cuda()\n",
        "    else:\n",
        "        net.cpu()\n",
        "    \n",
        "    net.eval() # eval mode\n",
        "    \n",
        "    # First off, run through the prime characters\n",
        "    chars = [ch for ch in prime]\n",
        "    h = net.init_hidden(1)\n",
        "    for ch in prime:\n",
        "        char, h = predict(net, ch, h, top_k=top_k)\n",
        "\n",
        "    chars.append(char)\n",
        "    \n",
        "    # Now pass in the previous character and get a new one\n",
        "    for ii in range(size):\n",
        "        char, h = predict(net, chars[-1], h, top_k=top_k)\n",
        "        chars.append(char)\n",
        "\n",
        "    return ''.join(chars)  "
      ],
      "execution_count": 0,
      "outputs": []
    },
    {
      "cell_type": "code",
      "metadata": {
        "id": "CwJ3m5MSIHad",
        "colab_type": "code",
        "colab": {
          "base_uri": "https://localhost:8080/",
          "height": 276
        },
        "outputId": "04a69a74-2252-47b4-9cae-f9e41517e9b8"
      },
      "source": [
        "import textwrap\n",
        "\n",
        "# Generating new text\n",
        "print( textwrap.fill( sample(net, 1000, prime='A', top_k=5)), 50)"
      ],
      "execution_count": 17,
      "outputs": [
        {
          "output_type": "stream",
          "text": [
            "A to take sochooly is. This she said the senior are a subject for the\n",
            "students. The shooting, he asked a second college is the school. As\n",
            "they develop admissions discussion about health on the college in the\n",
            "four-year college are a lettor who were shown about an extremely\n",
            "policy off the feeling about their present. And it was a subjoct to\n",
            "attend the school’s approach—to advocates to be their sources from the\n",
            "teacher who, where a school-student-conflict actual parents are\n",
            "program in a supporter on the same school. All that who was the fact\n",
            "that it’s also been seening on a child with the program that is the\n",
            "first policy what its colleges were students in the same of his\n",
            "student would be able to be successful. In 1999, a choice of the same\n",
            "student described when it, is also been solding the school’s schools\n",
            "or the prepare to pay and say they were ever the citer is nationality\n",
            "to comes in the president’s campus in the costs that accoppinately\n",
            "students who have to see the same singen suggests 50\n"
          ],
          "name": "stdout"
        }
      ]
    },
    {
      "cell_type": "code",
      "metadata": {
        "id": "9RF0o-lTIHai",
        "colab_type": "code",
        "colab": {}
      },
      "source": [
        ""
      ],
      "execution_count": 0,
      "outputs": []
    },
    {
      "cell_type": "code",
      "metadata": {
        "id": "O9swuGjLIHam",
        "colab_type": "code",
        "colab": {}
      },
      "source": [
        ""
      ],
      "execution_count": 0,
      "outputs": []
    },
    {
      "cell_type": "code",
      "metadata": {
        "id": "Unwj3u6CIHao",
        "colab_type": "code",
        "colab": {}
      },
      "source": [
        ""
      ],
      "execution_count": 0,
      "outputs": []
    },
    {
      "cell_type": "code",
      "metadata": {
        "id": "J4aUlFMIIHar",
        "colab_type": "code",
        "colab": {}
      },
      "source": [
        ""
      ],
      "execution_count": 0,
      "outputs": []
    }
  ]
}