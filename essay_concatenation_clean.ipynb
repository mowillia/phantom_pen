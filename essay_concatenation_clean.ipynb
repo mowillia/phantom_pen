{
  "nbformat": 4,
  "nbformat_minor": 0,
  "metadata": {
    "colab": {
      "name": "essay_concatenation_clean.ipynb",
      "version": "0.3.2",
      "provenance": [],
      "include_colab_link": true
    },
    "language_info": {
      "codemirror_mode": {
        "name": "ipython",
        "version": 3
      },
      "file_extension": ".py",
      "mimetype": "text/x-python",
      "name": "python",
      "nbconvert_exporter": "python",
      "pygments_lexer": "ipython3",
      "version": "3.6.8"
    },
    "kernelspec": {
      "display_name": "Python 3",
      "language": "python",
      "name": "python3"
    }
  },
  "cells": [
    {
      "cell_type": "markdown",
      "metadata": {
        "id": "view-in-github",
        "colab_type": "text"
      },
      "source": [
        "<a href=\"https://colab.research.google.com/github/mowillia/phantom_pen/blob/master/essay_concatenation_clean.ipynb\" target=\"_parent\"><img src=\"https://colab.research.google.com/assets/colab-badge.svg\" alt=\"Open In Colab\"/></a>"
      ]
    },
    {
      "cell_type": "markdown",
      "metadata": {
        "id": "kqEDcwhDSMer",
        "colab_type": "text"
      },
      "source": [
        "### Concatenating Essay Files\n",
        "\n",
        "This notebook concatenates the scraped files into a single file for each corpus class"
      ]
    },
    {
      "cell_type": "code",
      "metadata": {
        "id": "5waNo2pQSMet",
        "colab_type": "code",
        "outputId": "abcc17bc-0816-43a6-d4e8-5d953a54db9a",
        "colab": {
          "base_uri": "https://localhost:8080/",
          "height": 51
        }
      },
      "source": [
        "# Packages\n",
        "\n",
        "import pandas as pd\n",
        "import math, scipy\n",
        "import copy\n",
        "import re\n",
        "import os\n",
        "\n",
        "# used in the count of words/\n",
        "import string\n",
        "\n",
        "import nltk.data # natural language tool kit\n",
        "\n",
        "# for tokenizing sentences according by the words\n",
        "from nltk.tokenize import sent_tokenize, word_tokenize # $ pip install nltk\n",
        "nltk.download('punkt')\n",
        "\n",
        "import numpy as np\n",
        "\n",
        "from os import listdir\n",
        "from os.path import isfile, join\n",
        "\n",
        "import matplotlib.pyplot as plt\n"
      ],
      "execution_count": 0,
      "outputs": [
        {
          "output_type": "stream",
          "text": [
            "[nltk_data] Downloading package punkt to /root/nltk_data...\n",
            "[nltk_data]   Package punkt is already up-to-date!\n"
          ],
          "name": "stdout"
        }
      ]
    },
    {
      "cell_type": "markdown",
      "metadata": {
        "id": "9giaHxBRcc4p",
        "colab_type": "text"
      },
      "source": [
        "#### Gets list of files for a directory"
      ]
    },
    {
      "cell_type": "code",
      "metadata": {
        "id": "4VGDuzYfSMe1",
        "colab_type": "code",
        "colab": {}
      },
      "source": [
        "'''\n",
        "For the given path, get the List of all files in the directory tree \n",
        "From: https://thispointer.com/python-how-to-get-list-of-files-in-directory-and-sub-directories/\n",
        "'''\n",
        "def getListofFiles(dirName):\n",
        "    # create a list of file and sub directories \n",
        "    # names in the given directory \n",
        "    listOfFile = os.listdir(dirName)\n",
        "    allFiles = list()\n",
        "    # Iterate over all the entries\n",
        "    for entry in listOfFile:\n",
        "        # Create full path\n",
        "        fullPath = os.path.join(dirName, entry)\n",
        "        # If entry is a directory then get the list of files in this directory \n",
        "        if os.path.isdir(fullPath):\n",
        "            allFiles = allFiles + getListOfFiles(fullPath)\n",
        "        else:\n",
        "            allFiles.append(fullPath)\n",
        "                \n",
        "    return allFiles"
      ],
      "execution_count": 0,
      "outputs": []
    },
    {
      "cell_type": "markdown",
      "metadata": {
        "id": "duZHUp-BSMfh",
        "colab_type": "text"
      },
      "source": [
        "#### Atlantic Article Files"
      ]
    },
    {
      "cell_type": "code",
      "metadata": {
        "id": "CYSYD9WOSMfj",
        "colab_type": "code",
        "colab": {}
      },
      "source": [
        "# concatenated article files for Atlantic\n",
        "\n",
        "tags = ['entertainment',\n",
        "       'health',\n",
        "       'international',\n",
        "       'education',\n",
        "       'business',\n",
        "       'ideas',\n",
        "       'politics',\n",
        "       'science',\n",
        "       'technology']\n",
        "\n",
        "for k in range(len(tags)):\n",
        "    #name of directory\n",
        "    dirname = './Atlantic_subj_essays/'+tags[k]\n",
        "\n",
        "    # getting raw list of files\n",
        "    raw_file_list = getListOfFiles(dirname)\n",
        "\n",
        "    # eliminating the .DS Store files\n",
        "    raw_file_list = [x for x in raw_file_list if not ('.DS_Store' in x)];\n",
        "\n",
        "    filenames = raw_file_list\n",
        "    with open('all_' + tags[k]+'.txt', 'w') as outfile:\n",
        "        for fname in filenames:\n",
        "            with open(fname) as infile:\n",
        "                for line in infile:\n",
        "                    outfile.write(line)\n",
        "                outfile.write('\\n\\n\\n\\n')"
      ],
      "execution_count": 0,
      "outputs": []
    },
    {
      "cell_type": "markdown",
      "metadata": {
        "id": "FOkVwVnLSMfo",
        "colab_type": "text"
      },
      "source": [
        "#### Project Gutenberg File"
      ]
    },
    {
      "cell_type": "code",
      "metadata": {
        "id": "sggcQJoMSMfp",
        "colab_type": "code",
        "colab": {}
      },
      "source": [
        "## concatenates project gutenberg stories\n",
        "\n",
        "#name of directory\n",
        "dirname = './gutenberg_texts';\n",
        "\n",
        "# getting raw list of files\n",
        "raw_file_list = getListOfFiles(dirname)\n",
        "\n",
        "# eliminating the .DS Store files\n",
        "raw_file_list = [x for x in raw_file_list if not ('.DS_Store' in x)];\n",
        "\n",
        "filenames = raw_file_list\n",
        "with open('all_gutenberg.txt', 'w') as outfile:\n",
        "    for fname in filenames:\n",
        "        with open(fname) as infile:\n",
        "            for line in infile:\n",
        "                outfile.write(line)\n",
        "            outfile.write('\\n\\n\\n\\n')"
      ],
      "execution_count": 0,
      "outputs": []
    },
    {
      "cell_type": "markdown",
      "metadata": {
        "id": "LrA2n77gSMfu",
        "colab_type": "text"
      },
      "source": [
        "#### Short Stories File"
      ]
    },
    {
      "cell_type": "code",
      "metadata": {
        "id": "tp6SSmAtSMfw",
        "colab_type": "code",
        "colab": {}
      },
      "source": [
        "## concatenates short story files\n",
        "\n",
        "#name of directory\n",
        "dirname = './short_stories'\n",
        "\n",
        "# getting raw list of files\n",
        "raw_file_list = getListOfFiles(dirname)\n",
        "\n",
        "# eliminating the .DS Store files\n",
        "raw_file_list = [x for x in raw_file_list if not ('.DS_Store' in x)];\n",
        "\n",
        "filenames = raw_file_list\n",
        "with open('all_short_stories.txt', 'w') as outfile:\n",
        "    for fname in filenames:\n",
        "        with open(fname) as infile:\n",
        "            for line in infile:\n",
        "                outfile.write(line)\n",
        "            outfile.write('\\n\\n\\n\\n')"
      ],
      "execution_count": 0,
      "outputs": []
    }
  ]
}