{
  "nbformat": 4,
  "nbformat_minor": 0,
  "metadata": {
    "colab": {
      "name": "corpora_metadata.ipynb",
      "version": "0.3.2",
      "provenance": [],
      "collapsed_sections": [
        "at_KYf5QE5ri"
      ]
    },
    "language_info": {
      "codemirror_mode": {
        "name": "ipython",
        "version": 3
      },
      "file_extension": ".py",
      "mimetype": "text/x-python",
      "name": "python",
      "nbconvert_exporter": "python",
      "pygments_lexer": "ipython3",
      "version": "3.6.8"
    },
    "kernelspec": {
      "display_name": "Python 3",
      "language": "python",
      "name": "python3"
    }
  },
  "cells": [
    {
      "cell_type": "markdown",
      "metadata": {
        "id": "fb7c8pTYE5q9",
        "colab_type": "text"
      },
      "source": [
        "#### Metadata for the Corpora\n",
        "\n",
        "(July 1, 2019)\n"
      ]
    },
    {
      "cell_type": "code",
      "metadata": {
        "id": "UFWoNu6tE5rA",
        "colab_type": "code",
        "outputId": "3b92b09d-1866-4771-fe1e-67bff2264db7",
        "colab": {
          "base_uri": "https://localhost:8080/",
          "height": 52
        }
      },
      "source": [
        "# Packages\n",
        "\n",
        "import pandas as pd\n",
        "import math, scipy\n",
        "import copy\n",
        "import re\n",
        "import os\n",
        "import time\n",
        "\n",
        "# used in the count of words\n",
        "import string\n",
        "\n",
        "import nltk.data # natural language tool kit\n",
        "\n",
        "# for tokenizing sentences according by the words\n",
        "from nltk.tokenize import WhitespaceTokenizer\n",
        "\n",
        "from nltk.tokenize import sent_tokenize, word_tokenize # $ pip install nltk\n",
        "nltk.download('punkt')\n",
        "\n",
        "import numpy as np\n",
        "\n",
        "from os import listdir\n",
        "from os.path import isfile, join\n",
        "\n",
        "import matplotlib.pyplot as plt\n"
      ],
      "execution_count": 0,
      "outputs": [
        {
          "output_type": "stream",
          "text": [
            "[nltk_data] Downloading package punkt to /root/nltk_data...\n",
            "[nltk_data]   Package punkt is already up-to-date!\n"
          ],
          "name": "stdout"
        }
      ]
    },
    {
      "cell_type": "code",
      "metadata": {
        "id": "6WDmPKpdE5rJ",
        "colab_type": "code",
        "colab": {}
      },
      "source": [
        "from sklearn.ensemble import RandomForestClassifier\n",
        "from sklearn.neighbors import KNeighborsClassifier\n",
        "from sklearn.discriminant_analysis import LinearDiscriminantAnalysis\n",
        "from sklearn.discriminant_analysis import QuadraticDiscriminantAnalysis\n",
        "from sklearn.model_selection import train_test_split\n",
        "from sklearn.linear_model import LogisticRegression\n",
        "from numpy import random"
      ],
      "execution_count": 0,
      "outputs": []
    },
    {
      "cell_type": "code",
      "metadata": {
        "colab_type": "code",
        "outputId": "ca710d92-8fb8-41b1-9446-db4a6f7c3f8a",
        "id": "4lJYluAHGoRi",
        "colab": {
          "base_uri": "https://localhost:8080/",
          "height": 124
        }
      },
      "source": [
        "# Run this cell to mount your Google Drive.\n",
        "from google.colab import drive\n",
        "drive.mount('/content/drive')"
      ],
      "execution_count": 0,
      "outputs": [
        {
          "output_type": "stream",
          "text": [
            "Go to this URL in a browser: https://accounts.google.com/o/oauth2/auth?client_id=947318989803-6bn6qk8qdgf4n4g3pfee6491hc0brc4i.apps.googleusercontent.com&redirect_uri=urn%3Aietf%3Awg%3Aoauth%3A2.0%3Aoob&scope=email%20https%3A%2F%2Fwww.googleapis.com%2Fauth%2Fdocs.test%20https%3A%2F%2Fwww.googleapis.com%2Fauth%2Fdrive%20https%3A%2F%2Fwww.googleapis.com%2Fauth%2Fdrive.photos.readonly%20https%3A%2F%2Fwww.googleapis.com%2Fauth%2Fpeopleapi.readonly&response_type=code\n",
            "\n",
            "Enter your authorization code:\n",
            "··········\n",
            "Mounted at /content/drive\n"
          ],
          "name": "stdout"
        }
      ]
    },
    {
      "cell_type": "markdown",
      "metadata": {
        "id": "-6inENSgE5rP",
        "colab_type": "text"
      },
      "source": [
        "##### "
      ]
    },
    {
      "cell_type": "markdown",
      "metadata": {
        "collapsed": true,
        "id": "oMWtgBLpE5rQ",
        "colab_type": "text"
      },
      "source": [
        "### Getting List of Files"
      ]
    },
    {
      "cell_type": "code",
      "metadata": {
        "id": "ijdstIz0E5rR",
        "colab_type": "code",
        "colab": {}
      },
      "source": [
        "'''\n",
        "    For the given path, get the List of all files in the directory tree \n",
        "    From: https://thispointer.com/python-how-to-get-list-of-files-in-directory-and-sub-directories/\n",
        "'''\n",
        "def getListOfFiles(dirName):\n",
        "    # create a list of file and sub directories \n",
        "    # names in the given directory \n",
        "    listOfFile = os.listdir(dirName)\n",
        "    allFiles = list()\n",
        "    # Iterate over all the entries\n",
        "    for entry in listOfFile:\n",
        "        # Create full path\n",
        "        fullPath = os.path.join(dirName, entry)\n",
        "        # If entry is a directory then get the list of files in this directory \n",
        "        if os.path.isdir(fullPath):\n",
        "            allFiles = allFiles + getListOfFiles(fullPath)\n",
        "        else:\n",
        "            allFiles.append(fullPath)\n",
        "                \n",
        "    return allFiles"
      ],
      "execution_count": 0,
      "outputs": []
    },
    {
      "cell_type": "code",
      "metadata": {
        "id": "dJuP5UWaG67j",
        "colab_type": "code",
        "outputId": "b6df258c-a758-4ef8-b7a4-722bb48d0ee5",
        "colab": {
          "base_uri": "https://localhost:8080/",
          "height": 35
        }
      },
      "source": [
        "# start time\n",
        "start_time = time.time()\n",
        "\n",
        "# directory name\n",
        "dirname = '/content/drive/My Drive/writrly_proj_files/Atlantic_essays/' \n",
        "\n",
        "# getting raw list of files\n",
        "raw_file_list = getListOfFiles(dirname)\n",
        "\n",
        "# eliminating the .DS Store files\n",
        "raw_file_list = [x for x in raw_file_list if not ('.DS_Store' in x)];\n",
        "   \n",
        "# directory name\n",
        "dirname_stories = '/content/drive/My Drive/writrly_proj_files/short_stories/' \n",
        "\n",
        "# getting raw list of files\n",
        "raw_file_list_stories = getListOfFiles(dirname_stories)\n",
        "\n",
        "# eliminating the .DS Store files\n",
        "raw_file_list_stories = [x for x in raw_file_list_stories if not ('.DS_Store' in x)];\n",
        "\n",
        "\n",
        "print('Run Time:', str(time.time()-start_time), ' sec')"
      ],
      "execution_count": 0,
      "outputs": [
        {
          "output_type": "stream",
          "text": [
            "Run Time: 0.5157194137573242  sec\n"
          ],
          "name": "stdout"
        }
      ]
    },
    {
      "cell_type": "code",
      "metadata": {
        "id": "gKq1UdsEE5rY",
        "colab_type": "code",
        "outputId": "1d00f42b-9718-4a0d-8f50-356766594193",
        "colab": {
          "base_uri": "https://localhost:8080/",
          "height": 35
        }
      },
      "source": [
        "# number of essays \n",
        "len(raw_file_list+raw_file_list_stories)"
      ],
      "execution_count": 0,
      "outputs": [
        {
          "output_type": "execute_result",
          "data": {
            "text/plain": [
              "2174"
            ]
          },
          "metadata": {
            "tags": []
          },
          "execution_count": 6
        }
      ]
    },
    {
      "cell_type": "code",
      "metadata": {
        "colab_type": "code",
        "outputId": "35e6326a-3a6c-4161-f1c2-53ba21b8f972",
        "id": "Ui3v8woQLby4",
        "colab": {
          "base_uri": "https://localhost:8080/",
          "height": 55
        }
      },
      "source": [
        ""
      ],
      "execution_count": 0,
      "outputs": [
        {
          "output_type": "execute_result",
          "data": {
            "text/plain": [
              "'/content/drive/My Drive/writrly_proj_files/short_stories/cousin-tribulations-story_louisa-may-alcott.txt'"
            ]
          },
          "metadata": {
            "tags": []
          },
          "execution_count": 74
        }
      ]
    },
    {
      "cell_type": "code",
      "metadata": {
        "id": "iQl_-wLME5rd",
        "colab_type": "code",
        "outputId": "c88d4eeb-15fe-4bd1-f479-eaddb62635b7",
        "colab": {
          "base_uri": "https://localhost:8080/",
          "height": 86
        }
      },
      "source": [
        "## Getting atlantic article meta data\n",
        "\n",
        "k = 1678\n",
        "\n",
        "filename = raw_file_list[k]\n",
        "\n",
        "#locations of forward slashes\n",
        "sl_locs = [i for i, letter in enumerate(filename) if letter == '/']\n",
        "# location of slash before subject\n",
        "idx_subj_1 =  sl_locs[5]\n",
        "idx_subj_2 = sl_locs[6]\n",
        "# location of last forward slash\n",
        "idx = sl_locs[-1]\n",
        "\n",
        "# concatenated file name\n",
        "filename_concat = filename[idx+1:]\n",
        "\n",
        "# first underscore after title and before author\n",
        "idx1 = filename[idx+1:].find('_')\n",
        "# location of break between author and date\n",
        "idx2 = filename_concat[idx1+1:].find('_')\n",
        "\n",
        "\n",
        "# metadata\n",
        "#author = filename[]\n",
        "topic = filename[idx_subj_1+1:idx_subj_2]\n",
        "title = filename_concat[:idx1]\n",
        "author = filename_concat[idx1+1:][:idx2]\n",
        "date = filename_concat[idx1+1:][idx2+1:-4]\n",
        "\n",
        "print(topic)\n",
        "print(title)\n",
        "print(author)\n",
        "\n",
        "print(date)\n"
      ],
      "execution_count": 0,
      "outputs": [
        {
          "output_type": "stream",
          "text": [
            "international\n",
            "How the (Once) Most Corrupt Country in the World Got Clean(er)  \n",
            "Jonah Blank\n",
            "May 2, 2019\n"
          ],
          "name": "stdout"
        }
      ]
    },
    {
      "cell_type": "code",
      "metadata": {
        "id": "eZHYzXx2Gn7r",
        "colab_type": "code",
        "outputId": "0efdb40a-d5c7-4278-877a-c57f98164902",
        "colab": {
          "base_uri": "https://localhost:8080/",
          "height": 69
        }
      },
      "source": [
        "## Getting short story\n",
        "\n",
        "k = 100\n",
        "\n",
        "filename = raw_file_list_stories[k]\n",
        "\n",
        "#locations of forward slashes\n",
        "sl_locs = [i for i, letter in enumerate(filename) if letter == '/']\n",
        "# location of slash before subject\n",
        "idx_subj_1 =  sl_locs[4]\n",
        "idx_subj_2 = sl_locs[5]\n",
        "# location of last forward slash\n",
        "idx = sl_locs[-1]\n",
        "\n",
        "# concatenated file name\n",
        "filename_concat = filename[idx+1:]\n",
        "\n",
        "# first underscore after title and before author\n",
        "idx1 = filename[idx+1:].find('_')\n",
        "# location of break between author and date\n",
        "idx2 = filename_concat[idx1+1:].find('_')\n",
        "\n",
        "\n",
        "# metadata\n",
        "#author = filename[]\n",
        "topic = filename[idx_subj_1+1:idx_subj_2]\n",
        "title = filename_concat[:idx1]\n",
        "author = filename_concat[idx1+1:][idx2+1:-4]\n",
        "\n",
        "print(topic)\n",
        "print(title)\n",
        "print(author)\n"
      ],
      "execution_count": 0,
      "outputs": [
        {
          "output_type": "stream",
          "text": [
            "short_stories\n",
            "berties-christmas-eve\n",
            "hh-munro-saki\n"
          ],
          "name": "stdout"
        }
      ]
    },
    {
      "cell_type": "code",
      "metadata": {
        "id": "IA-JwzUUHrof",
        "colab_type": "code",
        "colab": {}
      },
      "source": [
        "def filename_metadata(filename):\n",
        "\n",
        "    #locations of forward slashes\n",
        "    sl_locs = [i for i, letter in enumerate(filename) if letter == '/']\n",
        "    # location of slash before subject\n",
        "    idx_subj_1 =  sl_locs[5]\n",
        "    idx_subj_2 = sl_locs[6]\n",
        "    # location of last forward slash\n",
        "    idx = sl_locs[-1]\n",
        "\n",
        "    # concatenated file name\n",
        "    filename_concat = filename[idx+1:]\n",
        "\n",
        "    # first underscore after title and before author\n",
        "    idx1 = filename[idx+1:].find('_')\n",
        "    # location of break between author and date\n",
        "    idx2 = filename_concat[idx1+1:].find('_')\n",
        "\n",
        "\n",
        "    # metadata\n",
        "    #author = filename[]\n",
        "    topic = filename[idx_subj_1+1:idx_subj_2]\n",
        "    title = filename_concat[:idx1]\n",
        "    author = filename_concat[idx1+1:][:idx2]\n",
        "    date = filename_concat[idx1+1:][idx2+1:-4]\n",
        "\n",
        "    return {'Topic': topic, \n",
        "    'Title': title,\n",
        "    'Author': author}"
      ],
      "execution_count": 0,
      "outputs": []
    },
    {
      "cell_type": "code",
      "metadata": {
        "id": "dgbm7JkwJr1O",
        "colab_type": "code",
        "outputId": "9ae978af-a2a7-400c-e03e-0d08f1b31f74",
        "colab": {
          "base_uri": "https://localhost:8080/",
          "height": 69
        }
      },
      "source": [
        "# test\n",
        "filename_metadata(raw_file_list[60])"
      ],
      "execution_count": 0,
      "outputs": [
        {
          "output_type": "execute_result",
          "data": {
            "text/plain": [
              "{'Author': 'Amanda Mull',\n",
              " 'Title': 'I Gave Up and Let Instagram Shop for Me ',\n",
              " 'Topic': 'technology'}"
            ]
          },
          "metadata": {
            "tags": []
          },
          "execution_count": 10
        }
      ]
    },
    {
      "cell_type": "code",
      "metadata": {
        "id": "Mm7Yx6DlHrOw",
        "colab_type": "code",
        "colab": {}
      },
      "source": [
        "def filename_metadata_stories(filename):\n",
        "\n",
        "    #locations of forward slashes\n",
        "    sl_locs = [i for i, letter in enumerate(filename) if letter == '/']\n",
        "    # location of slash before subject\n",
        "    idx_subj_1 =  sl_locs[4]\n",
        "    idx_subj_2 = sl_locs[5]\n",
        "    # location of last forward slash\n",
        "    idx = sl_locs[-1]\n",
        "\n",
        "    # concatenated file name\n",
        "    filename_concat = filename[idx+1:]\n",
        "\n",
        "    # first underscore after title and before author\n",
        "    idx1 = filename[idx+1:].find('_')\n",
        "    # location of break between author and date\n",
        "    idx2 = filename_concat[idx1+1:].find('_')\n",
        "\n",
        "\n",
        "    # metadata\n",
        "    #topic = filename[idx_subj_1+1:idx_subj_2]\n",
        "    topic = 'short story'\n",
        "    title = filename_concat[:idx1]\n",
        "    author = filename_concat[idx1+1:][idx2+1:-4]\n",
        "    \n",
        "    # remove hyphen and capitalize author\n",
        "    author = author.replace('-', ' ')\n",
        "    author = author.title()\n",
        "    \n",
        "    # remove hyphen and capitalize title\n",
        "    title = title.replace('-', ' ')\n",
        "    title = title.title()\n",
        "    \n",
        "    return {'Topic': topic, \n",
        "    'Title': title,\n",
        "    'Author': author}"
      ],
      "execution_count": 0,
      "outputs": []
    },
    {
      "cell_type": "code",
      "metadata": {
        "id": "nmL-bsSWJwxj",
        "colab_type": "code",
        "outputId": "ff2edb8c-6c69-4128-8943-afbfaff24df9",
        "colab": {
          "base_uri": "https://localhost:8080/",
          "height": 35
        }
      },
      "source": [
        "#test\n",
        "filename_metadata_stories(raw_file_list_stories[60])"
      ],
      "execution_count": 0,
      "outputs": [
        {
          "output_type": "execute_result",
          "data": {
            "text/plain": [
              "{'Author': 'Anton Chekhov', 'Title': 'A Chameleon', 'Topic': 'Short Story'}"
            ]
          },
          "metadata": {
            "tags": []
          },
          "execution_count": 12
        }
      ]
    },
    {
      "cell_type": "code",
      "metadata": {
        "id": "fcDQEstkJhWU",
        "colab_type": "code",
        "colab": {}
      },
      "source": [
        "# create master data frame \n",
        "corpus_metadata = pd.DataFrame(columns = ['Topic', 'Title','Author'])\n",
        "\n",
        "## Fill in elements from the file \n",
        "for elem in raw_file_list:\n",
        "    corpus_metadata = corpus_metadata.append(filename_metadata(elem)\n",
        "                                       ,ignore_index = True)\n",
        "for elem in raw_file_list_stories:\n",
        "    corpus_metadata = corpus_metadata.append(filename_metadata_stories(elem)\n",
        "                                       ,ignore_index = True)"
      ],
      "execution_count": 0,
      "outputs": []
    },
    {
      "cell_type": "markdown",
      "metadata": {
        "id": "_KWY_111Lgpt",
        "colab_type": "text"
      },
      "source": [
        "### Calculations"
      ]
    },
    {
      "cell_type": "code",
      "metadata": {
        "id": "Vk9DlvbrJhbs",
        "colab_type": "code",
        "outputId": "98752eac-b1a7-4973-e9d5-f7a099d7d1e3",
        "colab": {
          "base_uri": "https://localhost:8080/",
          "height": 35
        }
      },
      "source": [
        "len(corpus_metadata[corpus_metadata['Topic']=='short story'])"
      ],
      "execution_count": 0,
      "outputs": [
        {
          "output_type": "execute_result",
          "data": {
            "text/plain": [
              "160"
            ]
          },
          "metadata": {
            "tags": []
          },
          "execution_count": 21
        }
      ]
    },
    {
      "cell_type": "code",
      "metadata": {
        "id": "Cg004fLRLn4B",
        "colab_type": "code",
        "outputId": "49cbb6e3-8527-425d-8111-0e7c6fb5a6c7",
        "colab": {
          "base_uri": "https://localhost:8080/",
          "height": 35
        }
      },
      "source": [
        "## number of short story authors\n",
        "story_author = corpus_metadata[corpus_metadata['Topic']=='Short Story']['Author']\n",
        "len(set(story_author.tolist()))"
      ],
      "execution_count": 0,
      "outputs": [
        {
          "output_type": "execute_result",
          "data": {
            "text/plain": [
              "52"
            ]
          },
          "metadata": {
            "tags": []
          },
          "execution_count": 18
        }
      ]
    },
    {
      "cell_type": "code",
      "metadata": {
        "id": "EQS5uQVZL1mb",
        "colab_type": "code",
        "outputId": "f939bba8-8e52-44ce-8bd4-530ae482e79f",
        "colab": {
          "base_uri": "https://localhost:8080/",
          "height": 363
        }
      },
      "source": [
        "# number of articles for each topic\n",
        "topics = set(corpus_metadata['Topic'].tolist())\n",
        "for topic in topics:\n",
        "  print(topic, \":\", len(corpus_metadata[corpus_metadata['Topic']==topic]))\n",
        "  \n",
        "  \n",
        "  topic_author = corpus_metadata[corpus_metadata['Topic']==topic]['Author']\n",
        "  print('    ', \"num authors:\", len(set(topic_author.tolist())))"
      ],
      "execution_count": 0,
      "outputs": [
        {
          "output_type": "stream",
          "text": [
            "politics : 233\n",
            "     num authors: 52\n",
            "business : 205\n",
            "     num authors: 68\n",
            "ideas : 252\n",
            "     num authors: 123\n",
            "short story : 160\n",
            "     num authors: 52\n",
            "international : 142\n",
            "     num authors: 75\n",
            "entertainment : 234\n",
            "     num authors: 68\n",
            "education : 255\n",
            "     num authors: 63\n",
            "health : 207\n",
            "     num authors: 60\n",
            "science : 257\n",
            "     num authors: 59\n",
            "technology : 229\n",
            "     num authors: 57\n"
          ],
          "name": "stdout"
        }
      ]
    },
  ]
}
