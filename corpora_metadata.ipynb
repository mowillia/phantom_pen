{
  "nbformat": 4,
  "nbformat_minor": 0,
  "metadata": {
    "colab": {
      "name": "corpora_metadata.ipynb",
      "version": "0.3.2",
      "provenance": [],
      "collapsed_sections": [],
      "include_colab_link": true
    },
    "language_info": {
      "codemirror_mode": {
        "name": "ipython",
        "version": 3
      },
      "file_extension": ".py",
      "mimetype": "text/x-python",
      "name": "python",
      "nbconvert_exporter": "python",
      "pygments_lexer": "ipython3",
      "version": "3.6.8"
    },
    "kernelspec": {
      "display_name": "Python 3",
      "language": "python",
      "name": "python3"
    }
  },
  "cells": [
    {
      "cell_type": "markdown",
      "metadata": {
        "id": "view-in-github",
        "colab_type": "text"
      },
      "source": [
        "<a href=\"https://colab.research.google.com/github/mowillia/phantom_pen/blob/master/corpora_metadata.ipynb\" target=\"_parent\"><img src=\"https://colab.research.google.com/assets/colab-badge.svg\" alt=\"Open In Colab\"/></a>"
      ]
    },
    {
      "cell_type": "markdown",
      "metadata": {
        "id": "fb7c8pTYE5q9",
        "colab_type": "text"
      },
      "source": [
        "#### Metadata for the Corpora\n",
        "\n",
        "This IPython notebook computes metadata for the short stories and articles in our corpora\n"
      ]
    },
    {
      "cell_type": "code",
      "metadata": {
        "id": "UFWoNu6tE5rA",
        "colab_type": "code",
        "outputId": "d2c67b8c-2e9e-4af5-9048-2bfe46f8f960",
        "colab": {
          "base_uri": "https://localhost:8080/",
          "height": 52
        }
      },
      "source": [
        "# Packages\n",
        "\n",
        "import pandas as pd\n",
        "import math, scipy\n",
        "import copy\n",
        "import re\n",
        "import os\n",
        "import time\n",
        "\n",
        "# used in the count of words\n",
        "import string\n",
        "\n",
        "import nltk.data # natural language tool kit\n",
        "\n",
        "# for tokenizing sentences according by the words\n",
        "from nltk.tokenize import sent_tokenize, word_tokenize # $ pip install nltk\n",
        "nltk.download('punkt')\n",
        "\n",
        "import numpy as np\n",
        "\n",
        "from os import listdir\n",
        "from os.path import isfile, join\n",
        "\n",
        "import matplotlib.pyplot as plt\n"
      ],
      "execution_count": 1,
      "outputs": [
        {
          "output_type": "stream",
          "text": [
            "[nltk_data] Downloading package punkt to /root/nltk_data...\n",
            "[nltk_data]   Unzipping tokenizers/punkt.zip.\n"
          ],
          "name": "stdout"
        }
      ]
    },
    {
      "cell_type": "code",
      "metadata": {
        "colab_type": "code",
        "outputId": "e4b9fa71-0b86-4708-918d-7a7a845b208e",
        "id": "4lJYluAHGoRi",
        "colab": {
          "base_uri": "https://localhost:8080/",
          "height": 124
        }
      },
      "source": [
        "# Run this cell to mount your Google Drive.\n",
        "from google.colab import drive\n",
        "drive.mount('/content/drive')"
      ],
      "execution_count": 3,
      "outputs": [
        {
          "output_type": "stream",
          "text": [
            "Go to this URL in a browser: https://accounts.google.com/o/oauth2/auth?client_id=947318989803-6bn6qk8qdgf4n4g3pfee6491hc0brc4i.apps.googleusercontent.com&redirect_uri=urn%3Aietf%3Awg%3Aoauth%3A2.0%3Aoob&scope=email%20https%3A%2F%2Fwww.googleapis.com%2Fauth%2Fdocs.test%20https%3A%2F%2Fwww.googleapis.com%2Fauth%2Fdrive%20https%3A%2F%2Fwww.googleapis.com%2Fauth%2Fdrive.photos.readonly%20https%3A%2F%2Fwww.googleapis.com%2Fauth%2Fpeopleapi.readonly&response_type=code\n",
            "\n",
            "Enter your authorization code:\n",
            "··········\n",
            "Mounted at /content/drive\n"
          ],
          "name": "stdout"
        }
      ]
    },
    {
      "cell_type": "markdown",
      "metadata": {
        "id": "-6inENSgE5rP",
        "colab_type": "text"
      },
      "source": [
        "##### "
      ]
    },
    {
      "cell_type": "markdown",
      "metadata": {
        "collapsed": true,
        "id": "oMWtgBLpE5rQ",
        "colab_type": "text"
      },
      "source": [
        "### Getting List of Files"
      ]
    },
    {
      "cell_type": "code",
      "metadata": {
        "id": "ijdstIz0E5rR",
        "colab_type": "code",
        "colab": {}
      },
      "source": [
        "'''\n",
        "    For the given path, get the List of all files in the directory tree \n",
        "    From: https://thispointer.com/python-how-to-get-list-of-files-in-directory-and-sub-directories/\n",
        "'''\n",
        "def getListOfFiles(dirName):\n",
        "    # create a list of file and sub directories \n",
        "    # names in the given directory \n",
        "    listOfFile = os.listdir(dirName)\n",
        "    allFiles = list()\n",
        "    # Iterate over all the entries\n",
        "    for entry in listOfFile:\n",
        "        # Create full path\n",
        "        fullPath = os.path.join(dirName, entry)\n",
        "        # If entry is a directory then get the list of files in this directory \n",
        "        if os.path.isdir(fullPath):\n",
        "            allFiles = allFiles + getListOfFiles(fullPath)\n",
        "        else:\n",
        "            allFiles.append(fullPath)\n",
        "                \n",
        "    return allFiles"
      ],
      "execution_count": 0,
      "outputs": []
    },
    {
      "cell_type": "code",
      "metadata": {
        "id": "dJuP5UWaG67j",
        "colab_type": "code",
        "outputId": "235646ee-dbbb-4126-c5c5-78123ffc1685",
        "colab": {
          "base_uri": "https://localhost:8080/",
          "height": 35
        }
      },
      "source": [
        "# start time\n",
        "start_time = time.time()\n",
        "\n",
        "# directory name\n",
        "dirname = '/content/drive/My Drive/writrly_proj_files/Atlantic_essays/' \n",
        "\n",
        "# getting raw list of files\n",
        "raw_file_list = getListOfFiles(dirname)\n",
        "\n",
        "# eliminating the .DS Store files\n",
        "raw_file_list = [x for x in raw_file_list if not ('.DS_Store' in x)];\n",
        "   \n",
        "# directory name\n",
        "dirname_stories = '/content/drive/My Drive/writrly_proj_files/short_stories/' \n",
        "\n",
        "# getting raw list of files\n",
        "raw_file_list_stories = getListOfFiles(dirname_stories)\n",
        "\n",
        "# eliminating the .DS Store files\n",
        "raw_file_list_stories = [x for x in raw_file_list_stories if not ('.DS_Store' in x)];\n",
        "\n",
        "\n",
        "print('Run Time:', str(time.time()-start_time), ' sec')"
      ],
      "execution_count": 5,
      "outputs": [
        {
          "output_type": "stream",
          "text": [
            "Run Time: 3.5314478874206543  sec\n"
          ],
          "name": "stdout"
        }
      ]
    },
    {
      "cell_type": "code",
      "metadata": {
        "id": "gKq1UdsEE5rY",
        "colab_type": "code",
        "outputId": "7e251f42-afb3-418d-8884-01fdf24f30b3",
        "colab": {
          "base_uri": "https://localhost:8080/",
          "height": 35
        }
      },
      "source": [
        "# number of essays \n",
        "len(raw_file_list+raw_file_list_stories)"
      ],
      "execution_count": 6,
      "outputs": [
        {
          "output_type": "execute_result",
          "data": {
            "text/plain": [
              "2174"
            ]
          },
          "metadata": {
            "tags": []
          },
          "execution_count": 6
        }
      ]
    },
    {
      "cell_type": "code",
      "metadata": {
        "id": "iQl_-wLME5rd",
        "colab_type": "code",
        "outputId": "9cb75cce-a97c-4a0e-bf06-594f9cbba539",
        "colab": {
          "base_uri": "https://localhost:8080/",
          "height": 86
        }
      },
      "source": [
        "## Test code to collect Atlantic article meta data\n",
        "\n",
        "k = 1678\n",
        "\n",
        "filename = raw_file_list[k]\n",
        "\n",
        "#locations of forward slashes\n",
        "sl_locs = [i for i, letter in enumerate(filename) if letter == '/']\n",
        "# location of slash before subject\n",
        "idx_subj_1 =  sl_locs[5]\n",
        "idx_subj_2 = sl_locs[6]\n",
        "# location of last forward slash\n",
        "idx = sl_locs[-1]\n",
        "\n",
        "# concatenated file name\n",
        "filename_concat = filename[idx+1:]\n",
        "\n",
        "# first underscore after title and before author\n",
        "idx1 = filename[idx+1:].find('_')\n",
        "# location of break between author and date\n",
        "idx2 = filename_concat[idx1+1:].find('_')\n",
        "\n",
        "\n",
        "# metadata\n",
        "#author = filename[]\n",
        "topic = filename[idx_subj_1+1:idx_subj_2]\n",
        "title = filename_concat[:idx1]\n",
        "author = filename_concat[idx1+1:][:idx2]\n",
        "date = filename_concat[idx1+1:][idx2+1:-4]\n",
        "\n",
        "print(topic)\n",
        "print(title)\n",
        "print(author)\n",
        "\n",
        "print(date)\n"
      ],
      "execution_count": 7,
      "outputs": [
        {
          "output_type": "stream",
          "text": [
            "international\n",
            "How the (Once) Most Corrupt Country in the World Got Clean(er)  \n",
            "Jonah Blank\n",
            "May 2, 2019\n"
          ],
          "name": "stdout"
        }
      ]
    },
    {
      "cell_type": "code",
      "metadata": {
        "id": "eZHYzXx2Gn7r",
        "colab_type": "code",
        "outputId": "5d30123b-5c32-4279-9f53-6508e114eaaf",
        "colab": {
          "base_uri": "https://localhost:8080/",
          "height": 69
        }
      },
      "source": [
        "## Test code to collect short story meta data\n",
        "\n",
        "k = 100\n",
        "\n",
        "filename = raw_file_list_stories[k]\n",
        "\n",
        "#locations of forward slashes\n",
        "sl_locs = [i for i, letter in enumerate(filename) if letter == '/']\n",
        "# location of slash before subject\n",
        "idx_subj_1 =  sl_locs[4]\n",
        "idx_subj_2 = sl_locs[5]\n",
        "# location of last forward slash\n",
        "idx = sl_locs[-1]\n",
        "\n",
        "# concatenated file name\n",
        "filename_concat = filename[idx+1:]\n",
        "\n",
        "# first underscore after title and before author\n",
        "idx1 = filename[idx+1:].find('_')\n",
        "# location of break between author and date\n",
        "idx2 = filename_concat[idx1+1:].find('_')\n",
        "\n",
        "\n",
        "# metadata\n",
        "#author = filename[]\n",
        "topic = filename[idx_subj_1+1:idx_subj_2]\n",
        "title = filename_concat[:idx1]\n",
        "author = filename_concat[idx1+1:][idx2+1:-4]\n",
        "\n",
        "print(topic)\n",
        "print(title)\n",
        "print(author)\n"
      ],
      "execution_count": 8,
      "outputs": [
        {
          "output_type": "stream",
          "text": [
            "short_stories\n",
            "berties-christmas-eve\n",
            "hh-munro-saki\n"
          ],
          "name": "stdout"
        }
      ]
    },
    {
      "cell_type": "code",
      "metadata": {
        "id": "IA-JwzUUHrof",
        "colab_type": "code",
        "colab": {}
      },
      "source": [
        "## Function to collect metadata for Atlantic Articles\n",
        "\n",
        "def filename_metadata(filename):\n",
        "  \n",
        "    '''\n",
        "    Takes in a file name (containing an article) \n",
        "    and outputs the title of the article, the author, and the topic\n",
        "    \n",
        "    '''\n",
        "\n",
        "    #locations of forward slashes\n",
        "    sl_locs = [i for i, letter in enumerate(filename) if letter == '/']\n",
        "    # location of slash before subject\n",
        "    idx_subj_1 =  sl_locs[5]\n",
        "    idx_subj_2 = sl_locs[6]\n",
        "    # location of last forward slash\n",
        "    idx = sl_locs[-1]\n",
        "\n",
        "    # concatenated file name\n",
        "    filename_concat = filename[idx+1:]\n",
        "\n",
        "    # first underscore after title and before author\n",
        "    idx1 = filename[idx+1:].find('_')\n",
        "    # location of break between author and date\n",
        "    idx2 = filename_concat[idx1+1:].find('_')\n",
        "\n",
        "\n",
        "    # metadata\n",
        "    #author = filename[]\n",
        "    topic = filename[idx_subj_1+1:idx_subj_2]\n",
        "    title = filename_concat[:idx1]\n",
        "    author = filename_concat[idx1+1:][:idx2]\n",
        "    date = filename_concat[idx1+1:][idx2+1:-4]\n",
        "\n",
        "    return {'Topic': topic, \n",
        "    'Title': title,\n",
        "    'Author': author}"
      ],
      "execution_count": 0,
      "outputs": []
    },
    {
      "cell_type": "code",
      "metadata": {
        "id": "dgbm7JkwJr1O",
        "colab_type": "code",
        "outputId": "0ca17109-a1d8-4dd4-b121-c8892db0af15",
        "colab": {
          "base_uri": "https://localhost:8080/",
          "height": 69
        }
      },
      "source": [
        "# testing function\n",
        "filename_metadata(raw_file_list[60])"
      ],
      "execution_count": 10,
      "outputs": [
        {
          "output_type": "execute_result",
          "data": {
            "text/plain": [
              "{'Author': 'Amanda Mull',\n",
              " 'Title': 'I Gave Up and Let Instagram Shop for Me ',\n",
              " 'Topic': 'technology'}"
            ]
          },
          "metadata": {
            "tags": []
          },
          "execution_count": 10
        }
      ]
    },
    {
      "cell_type": "code",
      "metadata": {
        "id": "Mm7Yx6DlHrOw",
        "colab_type": "code",
        "colab": {}
      },
      "source": [
        "## Function to collect metadata from short stories\n",
        "\n",
        "def filename_metadata_stories(filename):\n",
        "\n",
        "  \n",
        "    '''\n",
        "    Takes in a file name (containing a short story) \n",
        "    and outputs the title of the article, the author, and the topic\n",
        "    \n",
        "    '''\n",
        "    \n",
        "    #locations of forward slashes\n",
        "    sl_locs = [i for i, letter in enumerate(filename) if letter == '/']\n",
        "    # location of slash before subject\n",
        "    idx_subj_1 =  sl_locs[4]\n",
        "    idx_subj_2 = sl_locs[5]\n",
        "    # location of last forward slash\n",
        "    idx = sl_locs[-1]\n",
        "\n",
        "    # concatenated file name\n",
        "    filename_concat = filename[idx+1:]\n",
        "\n",
        "    # first underscore after title and before author\n",
        "    idx1 = filename[idx+1:].find('_')\n",
        "    # location of break between author and date\n",
        "    idx2 = filename_concat[idx1+1:].find('_')\n",
        "\n",
        "\n",
        "    # metadata\n",
        "    #topic = filename[idx_subj_1+1:idx_subj_2]\n",
        "    topic = 'short story'\n",
        "    title = filename_concat[:idx1]\n",
        "    author = filename_concat[idx1+1:][idx2+1:-4]\n",
        "    \n",
        "    # remove hyphen and capitalize author\n",
        "    author = author.replace('-', ' ')\n",
        "    author = author.title()\n",
        "    \n",
        "    # remove hyphen and capitalize title\n",
        "    title = title.replace('-', ' ')\n",
        "    title = title.title()\n",
        "    \n",
        "    return {'Topic': topic, \n",
        "    'Title': title,\n",
        "    'Author': author}"
      ],
      "execution_count": 0,
      "outputs": []
    },
    {
      "cell_type": "code",
      "metadata": {
        "id": "nmL-bsSWJwxj",
        "colab_type": "code",
        "outputId": "ae57325c-f1d7-4adc-ca70-67bcfeab7de7",
        "colab": {
          "base_uri": "https://localhost:8080/",
          "height": 35
        }
      },
      "source": [
        "#testing function\n",
        "filename_metadata_stories(raw_file_list_stories[60])"
      ],
      "execution_count": 12,
      "outputs": [
        {
          "output_type": "execute_result",
          "data": {
            "text/plain": [
              "{'Author': 'Anton Chekhov', 'Title': 'A Chameleon', 'Topic': 'short story'}"
            ]
          },
          "metadata": {
            "tags": []
          },
          "execution_count": 12
        }
      ]
    },
    {
      "cell_type": "code",
      "metadata": {
        "id": "fcDQEstkJhWU",
        "colab_type": "code",
        "colab": {}
      },
      "source": [
        "# create master data frame of corpora\n",
        "corpora_metadata = pd.DataFrame(columns = ['Topic', 'Title','Author'])\n",
        "\n",
        "## Fill in elements from the file \n",
        "for elem in raw_file_list:\n",
        "    corpora_metadata = corpora_metadata.append(filename_metadata(elem)\n",
        "                                       ,ignore_index = True)\n",
        "for elem in raw_file_list_stories:\n",
        "    corpora_metadata = corpora_metadata.append(filename_metadata_stories(elem)\n",
        "                                       ,ignore_index = True)"
      ],
      "execution_count": 0,
      "outputs": []
    },
    {
      "cell_type": "code",
      "metadata": {
        "id": "X4DoRBaYD6AC",
        "colab_type": "code",
        "colab": {}
      },
      "source": [
        "### saving corpora meta data as a csv file [already saved]\n",
        "corpora_metadata.to_csv('corpora_metadata.csv')"
      ],
      "execution_count": 0,
      "outputs": []
    },
    {
      "cell_type": "markdown",
      "metadata": {
        "id": "_KWY_111Lgpt",
        "colab_type": "text"
      },
      "source": [
        "### Meta Data Calculations\n",
        "\n",
        "- Computes the number of short stories and short story authors\n",
        "\n",
        "- Computes the number of articles and authors per category of Atlantic article"
      ]
    },
    {
      "cell_type": "code",
      "metadata": {
        "id": "Vk9DlvbrJhbs",
        "colab_type": "code",
        "outputId": "4adffe25-ab3b-49d9-fed9-a87cdbfbf071",
        "colab": {
          "base_uri": "https://localhost:8080/",
          "height": 35
        }
      },
      "source": [
        "## number of short stories in the corpus\n",
        "len(corpora_metadata[corpora_metadata['Topic']=='short story'])"
      ],
      "execution_count": 25,
      "outputs": [
        {
          "output_type": "execute_result",
          "data": {
            "text/plain": [
              "160"
            ]
          },
          "metadata": {
            "tags": []
          },
          "execution_count": 25
        }
      ]
    },
    {
      "cell_type": "code",
      "metadata": {
        "id": "Cg004fLRLn4B",
        "colab_type": "code",
        "outputId": "20adeb22-b8e7-4dd9-8939-931d05e40188",
        "colab": {
          "base_uri": "https://localhost:8080/",
          "height": 35
        }
      },
      "source": [
        "## number of short story authors\n",
        "story_author = corpus_metadata[corpus_metadata['Topic']=='short story']['Author']\n",
        "len(set(story_author.tolist()))"
      ],
      "execution_count": 26,
      "outputs": [
        {
          "output_type": "execute_result",
          "data": {
            "text/plain": [
              "52"
            ]
          },
          "metadata": {
            "tags": []
          },
          "execution_count": 26
        }
      ]
    },
    {
      "cell_type": "code",
      "metadata": {
        "id": "EQS5uQVZL1mb",
        "colab_type": "code",
        "outputId": "19fc3876-9ecb-46c2-afda-0b14cf34115d",
        "colab": {
          "base_uri": "https://localhost:8080/",
          "height": 363
        }
      },
      "source": [
        "# number of articles for each topic\n",
        "topics = set(corpus_metadata['Topic'].tolist())\n",
        "for topic in topics:\n",
        "  print(topic, \":\", len(corpus_metadata[corpus_metadata['Topic']==topic]))\n",
        "  \n",
        "  \n",
        "  topic_author = corpus_metadata[corpus_metadata['Topic']==topic]['Author']\n",
        "  print('    ', \"num authors:\", len(set(topic_author.tolist())))"
      ],
      "execution_count": 27,
      "outputs": [
        {
          "output_type": "stream",
          "text": [
            "technology : 229\n",
            "     num authors: 57\n",
            "health : 207\n",
            "     num authors: 60\n",
            "short story : 160\n",
            "     num authors: 52\n",
            "science : 257\n",
            "     num authors: 59\n",
            "entertainment : 234\n",
            "     num authors: 68\n",
            "international : 142\n",
            "     num authors: 75\n",
            "ideas : 252\n",
            "     num authors: 123\n",
            "business : 205\n",
            "     num authors: 68\n",
            "education : 255\n",
            "     num authors: 63\n",
            "politics : 233\n",
            "     num authors: 52\n"
          ],
          "name": "stdout"
        }
      ]
    }
  ]
}